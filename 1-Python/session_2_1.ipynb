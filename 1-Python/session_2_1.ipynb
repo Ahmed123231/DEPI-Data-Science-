{
 "cells": [
  {
   "cell_type": "markdown",
   "metadata": {},
   "source": [
    "## String"
   ]
  },
  {
   "cell_type": "code",
   "execution_count": 12,
   "metadata": {},
   "outputs": [
    {
     "name": "stdout",
     "output_type": "stream",
     "text": [
      "ahmed\n",
      "helloahmed\n",
      "ahmedahmedahmed\n",
      "a\n",
      "hme\n",
      "ahm\n",
      "med\n",
      "d\n",
      "e\n",
      "amd\n"
     ]
    }
   ],
   "source": [
    "name = \"ahmed\"\n",
    "print(name)\n",
    "\n",
    "# ADD / Multiply\n",
    "print(\"hello\" + name) # concatination\n",
    "print(name * 3) # repeating\n",
    "\n",
    "# slicing\n",
    "print(name[0])\n",
    "print(name[1:4])\n",
    "print(name[:3])\n",
    "print(name[2:])\n",
    "# Negative index means start counting from the end of the string \n",
    "print(name[-1])\n",
    "print(name[-2])\n",
    "# Step Size the 2 here represents step size\n",
    "print(name[0:5:2])\n"
   ]
  },
  {
   "cell_type": "markdown",
   "metadata": {},
   "source": [
    "## Input"
   ]
  },
  {
   "cell_type": "code",
   "execution_count": 14,
   "metadata": {},
   "outputs": [
    {
     "name": "stdout",
     "output_type": "stream",
     "text": [
      "5\n"
     ]
    }
   ],
   "source": [
    "# Reading input from User Using input() function\n",
    "number = input()\n",
    "print(number)"
   ]
  },
  {
   "cell_type": "code",
   "execution_count": 15,
   "metadata": {},
   "outputs": [
    {
     "name": "stdout",
     "output_type": "stream",
     "text": [
      "2356\n"
     ]
    }
   ],
   "source": [
    "number = input(\"Please Enter number :\")\n",
    "print(number)"
   ]
  },
  {
   "cell_type": "code",
   "execution_count": 16,
   "metadata": {},
   "outputs": [
    {
     "name": "stdout",
     "output_type": "stream",
     "text": [
      "555\n"
     ]
    }
   ],
   "source": [
    "number = input(\"Please enter a number : \")\n",
    "print(number * 3)"
   ]
  },
  {
   "cell_type": "code",
   "execution_count": null,
   "metadata": {},
   "outputs": [
    {
     "name": "stdout",
     "output_type": "stream",
     "text": [
      "75\n"
     ]
    }
   ],
   "source": [
    "# the output of input() function is string \n",
    "# so we need to cast the output in order to use it as a number\n",
    "number = input(\"Please enter a number :\")\n",
    "number = int(number)\n",
    "print(number *3 )"
   ]
  },
  {
   "cell_type": "markdown",
   "metadata": {},
   "source": [
    "# Exercise 1 \n",
    "* take 2 numbers from the user and print their addition result\n"
   ]
  },
  {
   "cell_type": "code",
   "execution_count": 20,
   "metadata": {},
   "outputs": [
    {
     "name": "stdout",
     "output_type": "stream",
     "text": [
      "55\n"
     ]
    }
   ],
   "source": [
    "num_1 = input(\"Please Enter first number\")\n",
    "num_2 = input(\"Please Enter Second number\")\n",
    "print(int(num_1)+int(num_2))"
   ]
  },
  {
   "cell_type": "markdown",
   "metadata": {},
   "source": [
    "## Data Structures"
   ]
  },
  {
   "cell_type": "code",
   "execution_count": 21,
   "metadata": {},
   "outputs": [],
   "source": [
    "# Data Structure \n",
    "# Sequential ==> List , Tuple\n",
    "# non-sequential ==> Dictionary , Set\n"
   ]
  },
  {
   "cell_type": "markdown",
   "metadata": {},
   "source": [
    "## List"
   ]
  },
  {
   "cell_type": "code",
   "execution_count": 29,
   "metadata": {},
   "outputs": [
    {
     "name": "stdout",
     "output_type": "stream",
     "text": [
      "[1, 2, 3, 'ahmed']\n",
      "1\n",
      "ahmed\n",
      "[1, 2, 3, 5]\n",
      "[1, 2, 3, 5, 25]\n",
      "[1, 2, 36, 3, 5, 25]\n",
      "[1, 2, 36, 3, 5, 25, 7, 8, 9]\n"
     ]
    }
   ],
   "source": [
    "# Create a list \n",
    "nums = [1,2,3,\"ahmed\"]\n",
    "print(nums)\n",
    "\n",
    "# Slicing\n",
    "print(nums[0]) #prints 1 \n",
    "print(nums[3])\n",
    "# modification\n",
    "nums[3]=5\n",
    "print(nums)\n",
    "# Add new items \n",
    "# 1- Using append()\n",
    "nums.append(25)\n",
    "print(nums)\n",
    "# 2- Using insert()\n",
    "nums.insert(2,36)\n",
    "print(nums)\n",
    "# 3- using extend()\n",
    "tmp=[7,8,9]\n",
    "nums.extend(tmp)\n",
    "print(nums)\n"
   ]
  },
  {
   "cell_type": "code",
   "execution_count": null,
   "metadata": {},
   "outputs": [
    {
     "name": "stdout",
     "output_type": "stream",
     "text": [
      "[1, 2, 3, 4, 5, 6, 7, 8]\n",
      "[1, 2, 4, 5, 6, 7, 8]\n",
      "[1, 2, 5, 6, 7, 8]\n",
      "['Ahmed', 'Dina', 'Hani']\n",
      "[2, 4, 5, 5, 6, 7, 8, 14]\n",
      "[14, 8, 7, 6, 5, 5, 4, 2]\n",
      "4\n",
      "[]\n"
     ]
    }
   ],
   "source": [
    "nums = [1,2,3,4,5,6,7,8,9]\n",
    "# Removing items \n",
    "# using pop()\n",
    "nums.pop()\n",
    "print(nums)\n",
    "nums.pop(2)\n",
    "print(nums)\n",
    "# using remove()\n",
    "nums.remove(4)\n",
    "print(nums)\n",
    "\n",
    "# Sorting \n",
    "names = [\"Hani\",\"Dina\",\"Ahmed\"]\n",
    "# using sort()\n",
    "names.sort() # Sorting the names alphapitically\n",
    "print(names)\n",
    "nums_unsorted = [5,6,7,8,14,5,2,4]\n",
    "nums_unsorted.sort() # Sorting the numbers Ascending\n",
    "print(nums_unsorted)\n",
    "nums_unsorted.sort(reverse=True) # Sorting the numbers Descending\n",
    "print(nums_unsorted)\n",
    "\n",
    "# Getting Index using inex()\n",
    "print(nums_unsorted.index(5))\n",
    "\n",
    "# Clearing the whole list\n",
    "nums_unsorted.clear() # Empting the list \n",
    "print(nums_unsorted)\n"
   ]
  },
  {
   "cell_type": "code",
   "execution_count": null,
   "metadata": {},
   "outputs": [],
   "source": []
  }
 ],
 "metadata": {
  "kernelspec": {
   "display_name": "base",
   "language": "python",
   "name": "python3"
  },
  "language_info": {
   "codemirror_mode": {
    "name": "ipython",
    "version": 3
   },
   "file_extension": ".py",
   "mimetype": "text/x-python",
   "name": "python",
   "nbconvert_exporter": "python",
   "pygments_lexer": "ipython3",
   "version": "3.12.7"
  }
 },
 "nbformat": 4,
 "nbformat_minor": 2
}
