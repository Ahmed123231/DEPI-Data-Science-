{
 "cells": [
  {
   "cell_type": "markdown",
   "metadata": {},
   "source": [
    "# Tuple\n",
    "### We can consider Tuple a constant array as it's immutable means it doesn't allow data assignment once instalized"
   ]
  },
  {
   "cell_type": "code",
   "execution_count": 5,
   "metadata": {},
   "outputs": [
    {
     "name": "stdout",
     "output_type": "stream",
     "text": [
      "(3, 6, 1, 3, 5)\n",
      "<class 'tuple'>\n",
      "3\n"
     ]
    }
   ],
   "source": [
    "data =(3,6,1,3,5)\n",
    "print(data)\n",
    "print(type(data))\n",
    "\n",
    "# only Slicing is allowed as tuple is immutable doesn't allow sorting , appending , re-assigning\n",
    "print(data[3])\n",
    "\n",
    "#data[3]=6 # error\n",
    "\n"
   ]
  },
  {
   "cell_type": "markdown",
   "metadata": {},
   "source": [
    "# Dictionary"
   ]
  },
  {
   "cell_type": "markdown",
   "metadata": {},
   "source": [
    "### Non Sequential data structure can't be accessed by index "
   ]
  },
  {
   "cell_type": "markdown",
   "metadata": {},
   "source": [
    "### it can bey accessed by key and value "
   ]
  },
  {
   "cell_type": "code",
   "execution_count": 15,
   "metadata": {},
   "outputs": [
    {
     "name": "stdout",
     "output_type": "stream",
     "text": [
      "{'Name': 'Ahmed', 'ID': 123456, 123: 111}\n",
      "<class 'dict'>\n",
      "123456\n",
      "{'Name': 'Ahmed', 'ID': 3356, 123: 111}\n",
      "{'Name': 'Ahmed', 'ID': 3356, 123: 111, 'City': 'Giza'}\n",
      "{'Name': 'Ahmed', 'ID': 3356, 123: 111, 'City': 'Giza', 'Gender': 'Male'}\n",
      "{'Name': 'Ahmed', 'ID': 3356, 123: 111, 'City': 'Giza', 'Gender': 'Male', 1: 2, 3: 4, 5: 6}\n"
     ]
    }
   ],
   "source": [
    "# data = {Key:value}\n",
    "# Key -> int , string only\n",
    "# value can be any python data type \n",
    "\n",
    "data = {\"Name\":\"Ahmed\" , \"ID\":123456 , 123:111}\n",
    "print(data)\n",
    "print(type(data))\n",
    "\n",
    "#Slicing using the key\n",
    "print(data['ID'])\n",
    "#Modifiying \n",
    "data['ID']=3356\n",
    "print(data)\n",
    "#Adding new items \n",
    "#1-Call undefined key\n",
    "data[\"City\"]=\"Giza\"\n",
    "print(data)\n",
    "#2-set default\n",
    "data.setdefault(\"Gender\",\"Male\")\n",
    "print(data)\n",
    "#3-Using extend\n",
    "tmp={1:2 , 3:4 , 5:6}\n",
    "data.update(tmp)\n",
    "print(data)\n"
   ]
  },
  {
   "cell_type": "code",
   "execution_count": 23,
   "metadata": {},
   "outputs": [
    {
     "name": "stdout",
     "output_type": "stream",
     "text": [
      "{'Name': 'Ahmed', 'ID': 3356, 123: 111, 'Gender': 'Male'}\n",
      "{'Name': 'Ahmed', 'ID': 3356, 123: 111}\n",
      "{}\n",
      "dict_keys(['Name', 'ID', 123, 'City', 'Gender'])\n",
      "dict_values(['Ahmed', 3356, 111, 'Giza', 'Male'])\n",
      "dict_items([('Name', 'Ahmed'), ('ID', 3356), (123, 111), ('City', 'Giza'), ('Gender', 'Male')])\n",
      "{'Name': 'Ahmed', 'ID': 3356, 123: 111, 'City': 'Giza', 'Gender': 'Male'}\n",
      "{'Name': 'Ahmed', 'ID': 3356, 123: 111, 'City': 'Giza', 'Gender': 'Male'}\n"
     ]
    }
   ],
   "source": [
    "data ={'Name': 'Ahmed', 'ID': 3356, 123: 111, 'City': 'Giza', 'Gender': 'Male'}\n",
    "#Removing elements\n",
    "#1- Using pop\n",
    "data.pop('City')\n",
    "print(data)\n",
    "#2- Using popitem\n",
    "data.popitem()\n",
    "print(data)\n",
    "#3-Clear\n",
    "data.clear()\n",
    "print(data)\n",
    "#Retreiving keys\n",
    "data ={'Name': 'Ahmed', 'ID': 3356, 123: 111, 'City': 'Giza', 'Gender': 'Male'}\n",
    "print(data.keys())\n",
    "print(data.values())\n",
    "print(data.items())\n",
    "#Shallow Copying \n",
    "data2=data\n",
    "print(data2)\n",
    "\n",
    "#The right way to copy to use copy() method\n",
    "data2 =data.copy()\n",
    "print(data2)\n"
   ]
  },
  {
   "cell_type": "code",
   "execution_count": null,
   "metadata": {},
   "outputs": [],
   "source": []
  }
 ],
 "metadata": {
  "kernelspec": {
   "display_name": "base",
   "language": "python",
   "name": "python3"
  },
  "language_info": {
   "codemirror_mode": {
    "name": "ipython",
    "version": 3
   },
   "file_extension": ".py",
   "mimetype": "text/x-python",
   "name": "python",
   "nbconvert_exporter": "python",
   "pygments_lexer": "ipython3",
   "version": "3.12.7"
  }
 },
 "nbformat": 4,
 "nbformat_minor": 2
}
